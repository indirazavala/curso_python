{
 "cells": [
  {
   "cell_type": "markdown",
   "id": "0ce97707",
   "metadata": {},
   "source": [
    "### Exercise: Create a function to compute the Pearson correlation."
   ]
  },
  {
   "cell_type": "code",
   "execution_count": 1,
   "id": "e3924b53",
   "metadata": {},
   "outputs": [
    {
     "name": "stderr",
     "output_type": "stream",
     "text": [
      "<>:5: SyntaxWarning: invalid escape sequence '\\p'\n",
      "<>:5: SyntaxWarning: invalid escape sequence '\\p'\n",
      "C:\\Users\\INDIRA\\AppData\\Local\\Temp\\ipykernel_6724\\1206228057.py:5: SyntaxWarning: invalid escape sequence '\\p'\n",
      "  CO2Data = pd.read_csv(\"E:\\prueba\\Terminos_lagoon_TA_DIC_2023_RawData.csv\")\n"
     ]
    }
   ],
   "source": [
    "# Read in the data from the csv file\n",
    "\n",
    "import pandas as pd\n",
    "\n",
    "CO2Data = pd.read_csv(\"E:\\prueba\\Terminos_lagoon_TA_DIC_2023_RawData.csv\")"
   ]
  },
  {
   "cell_type": "code",
   "execution_count": 2,
   "id": "81226008",
   "metadata": {},
   "outputs": [
    {
     "name": "stdout",
     "output_type": "stream",
     "text": [
      "=== Pearson Correlation Test ===\n",
      "Pearson's correlation coefficient (r): 0.882\n",
      "p-value: 0.0000\n",
      "✔️ Significant relationship (p < 0.050)\n",
      "📈 Positive correlation\n",
      "\n",
      "=== Spearman Correlation Test ===\n",
      "Spearman's correlation coefficient (rho): 0.838\n",
      "p-value: 0.0000\n",
      "✔️ Significant relationship (p < 0.050)\n",
      "📈 Positive correlation\n"
     ]
    }
   ],
   "source": [
    "from scipy import stats\n",
    "\n",
    "# Función para Pearson\n",
    "def test_pearson(x, y, alpha=0.05):\n",
    "    \"\"\"\n",
    "    Calcula la correlación de Pearson entre dos variables.\n",
    "    Pearson se usa cuando los datos son continuos, normales y la relación es lineal.\n",
    "    \"\"\"\n",
    "    if len(x) != len(y):\n",
    "        raise ValueError(\"Las variables deben tener la misma longitud.\")\n",
    "\n",
    "    r, pval = stats.pearsonr(x, y)\n",
    "\n",
    "    print(\"=== Pearson Correlation Test ===\")\n",
    "    print(f\"Pearson's correlation coefficient (r): {r:.3f}\")\n",
    "    print(f\"p-value: {pval:.4f}\")\n",
    "\n",
    "    if pval < alpha:\n",
    "        print(f\"✔️ Significant relationship (p < {alpha:.3f})\")\n",
    "    else:\n",
    "        print(f\"⚠️ No significant relationship (p ≥ {alpha:.3f})\")\n",
    "\n",
    "    if r > 0:\n",
    "        print(\"📈 Positive correlation\")\n",
    "    else:\n",
    "        print(\"📉 Negative correlation\")\n",
    "\n",
    "\n",
    "# Función para Spearman (la que ya viste en clase)\n",
    "def test_spearman(x, y, alpha=0.05):\n",
    "    \"\"\"\n",
    "    Calcula la correlación de Spearman entre dos variables.\n",
    "    Spearman se usa con datos ordinales, no normales o con relaciones monótonas.\n",
    "    \"\"\"\n",
    "    if len(x) != len(y):\n",
    "        raise ValueError(\"Las variables deben tener la misma longitud.\")\n",
    "\n",
    "    rho, pval = stats.spearmanr(x, y)\n",
    "\n",
    "    print(\"=== Spearman Correlation Test ===\")\n",
    "    print(f\"Spearman's correlation coefficient (rho): {rho:.3f}\")\n",
    "    print(f\"p-value: {pval:.4f}\")\n",
    "\n",
    "    if pval < alpha:\n",
    "        print(f\"✔️ Significant relationship (p < {alpha:.3f})\")\n",
    "    else:\n",
    "        print(f\"⚠️ No significant relationship (p ≥ {alpha:.3f})\")\n",
    "\n",
    "    if rho > 0:\n",
    "        print(\"📈 Positive correlation\")\n",
    "    else:\n",
    "        print(\"📉 Negative correlation\")\n",
    "\n",
    "\n",
    "# Ejemplo con tus datos (ajusta el nombre de las columnas si cambian)\n",
    "test_pearson(CO2Data[\"ta_micromol_kg\"], CO2Data[\"dic_micromol_kg\"])\n",
    "print()\n",
    "test_spearman(CO2Data[\"ta_micromol_kg\"], CO2Data[\"dic_micromol_kg\"])\n"
   ]
  },
  {
   "cell_type": "code",
   "execution_count": null,
   "id": "118cc009",
   "metadata": {},
   "outputs": [],
   "source": []
  }
 ],
 "metadata": {
  "kernelspec": {
   "display_name": "base",
   "language": "python",
   "name": "python3"
  },
  "language_info": {
   "codemirror_mode": {
    "name": "ipython",
    "version": 3
   },
   "file_extension": ".py",
   "mimetype": "text/x-python",
   "name": "python",
   "nbconvert_exporter": "python",
   "pygments_lexer": "ipython3",
   "version": "3.13.5"
  }
 },
 "nbformat": 4,
 "nbformat_minor": 5
}
