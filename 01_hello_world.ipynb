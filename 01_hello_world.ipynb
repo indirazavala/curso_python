{
 "cells": [
  {
   "cell_type": "markdown",
   "id": "98e3ff8b",
   "metadata": {},
   "source": [
    "# Parte 1_hola mundo\n"
   ]
  },
  {
   "cell_type": "code",
   "execution_count": 1,
   "id": "c33ac3a9",
   "metadata": {},
   "outputs": [
    {
     "name": "stdout",
     "output_type": "stream",
     "text": [
      "hola mundo\n"
     ]
    }
   ],
   "source": [
    "print(\"hola mundo\")"
   ]
  },
  {
   "cell_type": "markdown",
   "id": "65c70e38",
   "metadata": {},
   "source": [
    "# Parte 2_Operaciones aritmeticas simples "
   ]
  },
  {
   "cell_type": "code",
   "execution_count": 2,
   "id": "ed0f3784",
   "metadata": {},
   "outputs": [],
   "source": [
    "a=1\n",
    "b=2\n"
   ]
  },
  {
   "cell_type": "markdown",
   "id": "ec973a7a",
   "metadata": {},
   "source": [
    "## Suma"
   ]
  },
  {
   "cell_type": "code",
   "execution_count": 4,
   "id": "e841a84f",
   "metadata": {},
   "outputs": [
    {
     "name": "stdout",
     "output_type": "stream",
     "text": [
      "3\n"
     ]
    }
   ],
   "source": [
    "suma=a+b\n",
    "print(suma)"
   ]
  },
  {
   "cell_type": "markdown",
   "id": "5c970823",
   "metadata": {},
   "source": [
    "## Resta"
   ]
  },
  {
   "cell_type": "code",
   "execution_count": 6,
   "id": "89bcdded",
   "metadata": {},
   "outputs": [
    {
     "name": "stdout",
     "output_type": "stream",
     "text": [
      "1\n"
     ]
    }
   ],
   "source": [
    "resta=b - a \n",
    "print(resta)"
   ]
  },
  {
   "cell_type": "markdown",
   "id": "c1d9e828",
   "metadata": {},
   "source": [
    "## Multiplicación"
   ]
  },
  {
   "cell_type": "code",
   "execution_count": 7,
   "id": "81d4bc62",
   "metadata": {},
   "outputs": [
    {
     "name": "stdout",
     "output_type": "stream",
     "text": [
      "2\n"
     ]
    }
   ],
   "source": [
    "multiplicacion=a*b\n",
    "print(multiplicacion)"
   ]
  },
  {
   "cell_type": "markdown",
   "id": "1ea9fabd",
   "metadata": {},
   "source": [
    "## División"
   ]
  },
  {
   "cell_type": "code",
   "execution_count": 8,
   "id": "8ad66e64",
   "metadata": {},
   "outputs": [
    {
     "name": "stdout",
     "output_type": "stream",
     "text": [
      "2.0\n"
     ]
    }
   ],
   "source": [
    "division=b/a\n",
    "print(division)"
   ]
  }
 ],
 "metadata": {
  "kernelspec": {
   "display_name": "base",
   "language": "python",
   "name": "python3"
  },
  "language_info": {
   "codemirror_mode": {
    "name": "ipython",
    "version": 3
   },
   "file_extension": ".py",
   "mimetype": "text/x-python",
   "name": "python",
   "nbconvert_exporter": "python",
   "pygments_lexer": "ipython3",
   "version": "3.13.5"
  }
 },
 "nbformat": 4,
 "nbformat_minor": 5
}
