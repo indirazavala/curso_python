{
 "cells": [
  {
   "cell_type": "markdown",
   "id": "ff4847c2",
   "metadata": {},
   "source": [
    "# 10_nonparametric_kruskal_wallis"
   ]
  },
  {
   "cell_type": "markdown",
   "id": "388dc8d3",
   "metadata": {},
   "source": [
    "### Exercise: Perform Kruskal-Wallis test and plot a box plot for DIC and temperature data."
   ]
  },
  {
   "cell_type": "code",
   "execution_count": 1,
   "id": "945a332b",
   "metadata": {},
   "outputs": [],
   "source": [
    "def import_csv(file):\n",
    "    # Read the file into a DataFrame: df\n",
    "    import pandas as pd\n",
    "    return pd.read_csv(file)"
   ]
  },
  {
   "cell_type": "code",
   "execution_count": 2,
   "id": "7d9ad48d",
   "metadata": {},
   "outputs": [
    {
     "name": "stderr",
     "output_type": "stream",
     "text": [
      "<>:2: SyntaxWarning: invalid escape sequence '\\p'\n",
      "<>:2: SyntaxWarning: invalid escape sequence '\\p'\n",
      "C:\\Users\\INDIRA\\AppData\\Local\\Temp\\ipykernel_10140\\1381770234.py:2: SyntaxWarning: invalid escape sequence '\\p'\n",
      "  path = \"E:\\prueba\\Terminos_lagoon_TA_DIC_2023_RawData.csv\"\n"
     ]
    }
   ],
   "source": [
    "# Path to the file to be imported\n",
    "path = \"E:\\prueba\\Terminos_lagoon_TA_DIC_2023_RawData.csv\"\n",
    "\n",
    "# Import the file\n",
    "co2_data = import_csv(path)"
   ]
  },
  {
   "cell_type": "code",
   "execution_count": 3,
   "id": "fdb04ae2",
   "metadata": {},
   "outputs": [],
   "source": [
    "from scipy.stats import kruskal\n",
    "import scikit_posthocs as sp\n",
    "import seaborn as sns\n",
    "import matplotlib.pyplot as plt"
   ]
  },
  {
   "cell_type": "code",
   "execution_count": 4,
   "id": "79220b15",
   "metadata": {},
   "outputs": [],
   "source": [
    "# --- 1. Función para Kruskal-Wallis ---\n",
    "def kruskal_wallis_test(*groups, alpha=0.05):\n",
    "    \"\"\"\n",
    "    Performs the Kruskal-Wallis H-test for independent samples.\n",
    "    Accepts multiple groups as arguments.\n",
    "    Prints the H statistic, p-value, and interpretation.\n",
    "    \"\"\"\n",
    "    result = kruskal(*groups)\n",
    "    \n",
    "    print(f\"H statistic = {result.statistic:.4f}\")\n",
    "    print(f\"p-value = {result.pvalue:.5f}\")\n",
    "    \n",
    "    if result.pvalue < alpha:\n",
    "        print(\"The difference between groups is statistically significant.\")\n",
    "    else:\n",
    "        print(\"No statistically significant difference between groups.\")\n",
    "\n",
    "# --- 2. Función para Dunn post-hoc ---\n",
    "def dunn_posthoc(data, group_col, value_col, p_adjust='bonferroni'):\n",
    "    \"\"\"\n",
    "    Runs Dunn's post-hoc test after Kruskal-Wallis.\n",
    "    \"\"\"\n",
    "    result = sp.posthoc_dunn(data, val_col=value_col, group_col=group_col, p_adjust=p_adjust)\n",
    "    print(result)\n",
    "    return result"
   ]
  },
  {
   "cell_type": "code",
   "execution_count": 11,
   "id": "16808b92",
   "metadata": {},
   "outputs": [
    {
     "name": "stderr",
     "output_type": "stream",
     "text": [
      "C:\\Users\\INDIRA\\AppData\\Local\\Temp\\ipykernel_10140\\2772797916.py:6: FutureWarning: \n",
      "\n",
      "Passing `palette` without assigning `hue` is deprecated and will be removed in v0.14.0. Assign the `x` variable to `hue` and set `legend=False` for the same effect.\n",
      "\n",
      "  sns.boxplot(x='area', y='dic_micromol_kg', data=co2_data, palette=\"Set2\")\n"
     ]
    },
    {
     "data": {
      "image/png": "[encoded data removed]",
      "text/plain": [
       "<Figure size 640x480 with 1 Axes>"
      ]
     },
     "metadata": {},
     "output_type": "display_data"
    }
   ],
   "source": [
    "# -------------------------------\n",
    "# DIC (Dissolved Inorganic Carbon)\n",
    "# -------------------------------\n",
    "\n",
    "# Boxplot por área\n",
    "sns.boxplot(x='area', y='dic_micromol_kg', data=co2_data, palette=\"Set2\")\n",
    "plt.xlabel('Área de la laguna')\n",
    "plt.ylabel('DIC (micromol/kg)')\n",
    "plt.title('DIC por área de la laguna')\n",
    "plt.show()\n"
   ]
  },
  {
   "cell_type": "code",
   "execution_count": 12,
   "id": "8a99025d",
   "metadata": {},
   "outputs": [],
   "source": [
    "# Grupos por área\n",
    "dic_river = co2_data[co2_data['area'] == 'River']['dic_micromol_kg']\n",
    "dic_plume = co2_data[co2_data['area'] == 'Plume']['dic_micromol_kg']\n",
    "dic_coast = co2_data[co2_data['area'] == 'Coast']['dic_micromol_kg']\n",
    "\n"
   ]
  },
  {
   "cell_type": "code",
   "execution_count": 13,
   "id": "91c46802",
   "metadata": {},
   "outputs": [
    {
     "name": "stdout",
     "output_type": "stream",
     "text": [
      "=== Kruskal-Wallis para DIC ===\n",
      "H statistic = 55.8897\n",
      "p-value = 0.00000\n",
      "The difference between groups is statistically significant.\n",
      "\n",
      "=== Post-hoc Dunn para DIC ===\n",
      "              Coast     Plume         River\n",
      "Coast  1.000000e+00  0.063144  7.204720e-13\n",
      "Plume  6.314392e-02  1.000000  1.885873e-06\n",
      "River  7.204720e-13  0.000002  1.000000e+00\n"
     ]
    },
    {
     "data": {
      "application/vnd.microsoft.datawrangler.viewer.v0+json": {
       "columns": [
        {
         "name": "index",
         "rawType": "object",
         "type": "string"
        },
        {
         "name": "Coast",
         "rawType": "float64",
         "type": "float"
        },
        {
         "name": "Plume",
         "rawType": "float64",
         "type": "float"
        },
        {
         "name": "River",
         "rawType": "float64",
         "type": "float"
        }
       ],
       "ref": "9d17d13f-750c-44a2-b225-46128eec503d",
       "rows": [
        [
         "Coast",
         "1.0",
         "0.06314391842749771",
         "7.204719560883086e-13"
        ],
        [
         "Plume",
         "0.06314391842749771",
         "1.0",
         "1.885872912149332e-06"
        ],
        [
         "River",
         "7.204719560883086e-13",
         "1.885872912149332e-06",
         "1.0"
        ]
       ],
       "shape": {
        "columns": 3,
        "rows": 3
       }
      },
      "text/html": [
       "<div>\n",
       "<style scoped>\n",
       "    .dataframe tbody tr th:only-of-type {\n",
       "        vertical-align: middle;\n",
       "    }\n",
       "\n",
       "    .dataframe tbody tr th {\n",
       "        vertical-align: top;\n",
       "    }\n",
       "\n",
       "    .dataframe thead th {\n",
       "        text-align: right;\n",
       "    }\n",
       "</style>\n",
       "<table border=\"1\" class=\"dataframe\">\n",
       "  <thead>\n",
       "    <tr style=\"text-align: right;\">\n",
       "      <th></th>\n",
       "      <th>Coast</th>\n",
       "      <th>Plume</th>\n",
       "      <th>River</th>\n",
       "    </tr>\n",
       "  </thead>\n",
       "  <tbody>\n",
       "    <tr>\n",
       "      <th>Coast</th>\n",
       "      <td>1.000000e+00</td>\n",
       "      <td>0.063144</td>\n",
       "      <td>7.204720e-13</td>\n",
       "    </tr>\n",
       "    <tr>\n",
       "      <th>Plume</th>\n",
       "      <td>6.314392e-02</td>\n",
       "      <td>1.000000</td>\n",
       "      <td>1.885873e-06</td>\n",
       "    </tr>\n",
       "    <tr>\n",
       "      <th>River</th>\n",
       "      <td>7.204720e-13</td>\n",
       "      <td>0.000002</td>\n",
       "      <td>1.000000e+00</td>\n",
       "    </tr>\n",
       "  </tbody>\n",
       "</table>\n",
       "</div>"
      ],
      "text/plain": [
       "              Coast     Plume         River\n",
       "Coast  1.000000e+00  0.063144  7.204720e-13\n",
       "Plume  6.314392e-02  1.000000  1.885873e-06\n",
       "River  7.204720e-13  0.000002  1.000000e+00"
      ]
     },
     "execution_count": 13,
     "metadata": {},
     "output_type": "execute_result"
    }
   ],
   "source": [
    "# Test de Kruskal-Wallis\n",
    "print(\"=== Kruskal-Wallis para DIC ===\")\n",
    "kruskal_wallis_test(dic_river, dic_plume, dic_coast)\n",
    "\n",
    "# Post-hoc Dunn\n",
    "print(\"\\n=== Post-hoc Dunn para DIC ===\")\n",
    "dunn_posthoc(co2_data, 'area', 'dic_micromol_kg')"
   ]
  },
  {
   "cell_type": "code",
   "execution_count": 7,
   "id": "eeee6037",
   "metadata": {},
   "outputs": [
    {
     "name": "stderr",
     "output_type": "stream",
     "text": [
      "C:\\Users\\INDIRA\\AppData\\Local\\Temp\\ipykernel_10140\\1258040439.py:6: FutureWarning: \n",
      "\n",
      "Passing `palette` without assigning `hue` is deprecated and will be removed in v0.14.0. Assign the `x` variable to `hue` and set `legend=False` for the same effect.\n",
      "\n",
      "  sns.boxplot(x='area', y='temp_c', data=co2_data, palette=\"coolwarm\")\n"
     ]
    },
    {
     "data": {
      "image/png": "[encoded data removed]",
      "text/plain": [
       "<Figure size 640x480 with 1 Axes>"
      ]
     },
     "metadata": {},
     "output_type": "display_data"
    }
   ],
   "source": [
    "# -------------------------------\n",
    "# Temperature\n",
    "# -------------------------------\n",
    "\n",
    "# Boxplot por área\n",
    "sns.boxplot(x='area', y='temp_c', data=co2_data, palette=\"coolwarm\")\n",
    "plt.xlabel('Área de la laguna')\n",
    "plt.ylabel('Temperatura (°C)')\n",
    "plt.title('Temperatura por área de la laguna')\n",
    "plt.show()"
   ]
  },
  {
   "cell_type": "code",
   "execution_count": 8,
   "id": "2ed783ae",
   "metadata": {},
   "outputs": [],
   "source": [
    "# -------------------------------\n",
    "# Kruskal-Wallis test (Temperature)\n",
    "# -------------------------------\n",
    "\n",
    "# Extraer datos por área\n",
    "temp_river = co2_data[co2_data['area'] == 'River']['temp_c']\n",
    "temp_plume = co2_data[co2_data['area'] == 'Plume']['temp_c']\n",
    "temp_coast = co2_data[co2_data['area'] == 'Coast']['temp_c']"
   ]
  },
  {
   "cell_type": "code",
   "execution_count": 14,
   "id": "6aad2c75",
   "metadata": {},
   "outputs": [
    {
     "name": "stdout",
     "output_type": "stream",
     "text": [
      "Kruskal-Wallis Test (Temperatura):\n",
      "Estadístico H = 7.700, p = 0.0213\n",
      "Resultado: Diferencias significativas entre al menos dos áreas (p < 0.05).\n"
     ]
    }
   ],
   "source": [
    "# Prueba de Kruskal-Wallis\n",
    "stat, p = kruskal(temp_river, temp_plume, temp_coast)\n",
    "print(\"Kruskal-Wallis Test (Temperatura):\")\n",
    "print(\"Estadístico H = {:.3f}, p = {:.4f}\".format(stat, p))\n",
    "\n",
    "# Interpretación\n",
    "alpha = 0.05\n",
    "if p < alpha:\n",
    "    print(\"Resultado: Diferencias significativas entre al menos dos áreas (p < 0.05).\")\n",
    "else:\n",
    "    print(\"Resultado: No se encontraron diferencias significativas (p ≥ 0.05).\")\n"
   ]
  },
  {
   "cell_type": "code",
   "execution_count": 10,
   "id": "91d33f70",
   "metadata": {},
   "outputs": [
    {
     "name": "stdout",
     "output_type": "stream",
     "text": [
      "\n",
      "Resultados post-hoc de Dunn (Temperatura):\n",
      "          Coast    Plume     River\n",
      "Coast  1.000000  0.06468  0.038761\n",
      "Plume  0.064680  1.00000  1.000000\n",
      "River  0.038761  1.00000  1.000000\n"
     ]
    }
   ],
   "source": [
    "# -------------------------------\n",
    "# Dunn post-hoc (Temperature)\n",
    "# -------------------------------\n",
    "\n",
    "dunn_result = sp.posthoc_dunn(\n",
    "    co2_data, \n",
    "    val_col='temp_c', \n",
    "    group_col='area', \n",
    "    p_adjust='bonferroni'\n",
    ")\n",
    "\n",
    "print(\"\\nResultados post-hoc de Dunn (Temperatura):\")\n",
    "print(dunn_result)"
   ]
  },
  {
   "cell_type": "code",
   "execution_count": null,
   "id": "e1c8b56f",
   "metadata": {},
   "outputs": [],
   "source": []
  }
 ],
 "metadata": {
  "kernelspec": {
   "display_name": "base",
   "language": "python",
   "name": "python3"
  },
  "language_info": {
   "codemirror_mode": {
    "name": "ipython",
    "version": 3
   },
   "file_extension": ".py",
   "mimetype": "text/x-python",
   "name": "python",
   "nbconvert_exporter": "python",
   "pygments_lexer": "ipython3",
   "version": "3.13.5"
  }
 },
 "nbformat": 4,
 "nbformat_minor": 5
}
