{
 "cells": [
  {
   "cell_type": "markdown",
   "id": "179f3466",
   "metadata": {},
   "source": [
    "# 08_normality_test"
   ]
  },
  {
   "cell_type": "markdown",
   "id": "4c308750",
   "metadata": {},
   "source": [
    "## Exercise:\n",
    "- Respond to the following question: When is it appropriate to use the Kolmogorov-Smirnov test instead of the Shapiro-Wilk test?\n",
    "- Based on the previous answer, perform the appropriate test to assess normality in the DIC (Dissolved Inorganic Carbon) and Salinity datasets."
   ]
  },
  {
   "cell_type": "markdown",
   "id": "667ed0b0",
   "metadata": {},
   "source": [
    "## Respond to the following question: When is it appropriate to use the Kolmogorov-Smirnov test instead of the Shapiro-Wilk test?\n",
    "- El test de Shapiro-Wilk es apropiado para muestras pequeñas o medianas (<2000 observaciones), mientras que el Kolmogorov-Smirnov se recomienda para muestras grandes, ya que Shapiro-Wilk pierde potencia en esos casos.\n"
   ]
  },
  {
   "cell_type": "markdown",
   "id": "eaa9236e",
   "metadata": {},
   "source": [
    "## Based on the previous answer, perform the appropriate test to assess normality in the DIC (Dissolved Inorganic Carbon) and Salinity datasets."
   ]
  },
  {
   "cell_type": "code",
   "execution_count": 1,
   "id": "a8ee2b4a",
   "metadata": {},
   "outputs": [],
   "source": [
    "# Read the file into a DataFrame: df\n",
    "def import_csv(file):\n",
    "    # Read the file into a DataFrame: df\n",
    "    import pandas as pd\n",
    "    return pd.read_csv(file) "
   ]
  },
  {
   "cell_type": "code",
   "execution_count": 2,
   "id": "63bc2a86",
   "metadata": {},
   "outputs": [
    {
     "name": "stderr",
     "output_type": "stream",
     "text": [
      "<>:2: SyntaxWarning: invalid escape sequence '\\p'\n",
      "<>:2: SyntaxWarning: invalid escape sequence '\\p'\n",
      "C:\\Users\\INDIRA\\AppData\\Local\\Temp\\ipykernel_12064\\2335423806.py:2: SyntaxWarning: invalid escape sequence '\\p'\n",
      "  path = \"E:\\prueba\\Terminos_lagoon_TA_DIC_2023_RawData.csv\"\n"
     ]
    },
    {
     "name": "stdout",
     "output_type": "stream",
     "text": [
      "   sample      date     estuary   area station layer_depth season  \\\n",
      "0  CDL01S  5/3/2020  Candelaria  River   CDL01     Surface    Dry   \n",
      "1  CDL01F  5/3/2020  Candelaria  River   CDL01      Bottom    Dry   \n",
      "2  CDL02S  5/3/2020  Candelaria  River   CDL02     Surface    Dry   \n",
      "3  CDL02F  5/3/2020  Candelaria  River   CDL02      Bottom    Dry   \n",
      "4  CDL03S  5/3/2020  Candelaria  River   CDL03     Surface    Dry   \n",
      "\n",
      "   chlorophy_microg_l  cond_microsiemens_cm  depth_m  ...  do_mg_l  sal_psu  \\\n",
      "0                0.36                7015.4    0.464  ...     7.12     3.56   \n",
      "1                4.19               29886.1    7.792  ...     4.90    16.97   \n",
      "2                0.92               16691.1    0.453  ...     6.99     8.94   \n",
      "3                2.23               24847.4    1.261  ...     6.52    13.87   \n",
      "4                0.58               46341.6    0.465  ...     6.24    28.06   \n",
      "\n",
      "   sp_cond_microsiemens_cm  turbidity_fnu  temp_c  latitude  longitude  \\\n",
      "0                   6547.7           1.47  28.740  18.55736  -91.25012   \n",
      "1                  27751.2          95.33  29.028  18.55722  -91.24990   \n",
      "2                  15429.1           5.50  29.283  18.61007  -91.24410   \n",
      "3                  23074.0          13.44  29.024  18.61005  -91.24403   \n",
      "4                  43670.8           3.60  28.202  18.63166  -91.29359   \n",
      "\n",
      "   dic_micromol_kg  ta_micromol_kg  dummy_data  \n",
      "0             3915            3863      3685.0  \n",
      "1             3698            3685         NaN  \n",
      "2             3724            3708      3708.0  \n",
      "3             3667            3992      3992.0  \n",
      "4             2928            3023      3023.0  \n",
      "\n",
      "[5 rows x 21 columns]\n"
     ]
    }
   ],
   "source": [
    "# Path to the file to be imported\n",
    "path = \"E:\\prueba\\Terminos_lagoon_TA_DIC_2023_RawData.csv\"\n",
    "\n",
    "# Import the file\n",
    "CO2Data = import_csv(path)\n",
    "\n",
    "print(CO2Data.head())"
   ]
  },
  {
   "cell_type": "code",
   "execution_count": 3,
   "id": "a55c887a",
   "metadata": {},
   "outputs": [
    {
     "name": "stdout",
     "output_type": "stream",
     "text": [
      "[DIC] Shapiro-Wilk test: Estadístico = 0.85997, p-valor = 0.00000\n",
      "La distribución de DIC NO es normal (se rechaza H0).\n",
      "\n"
     ]
    }
   ],
   "source": [
    "from scipy.stats import shapiro\n",
    "\n",
    "# DIC\n",
    "dic = CO2Data['dic_micromol_kg']\n",
    "stat_dic, p_dic = shapiro(dic)\n",
    "print(f\"[DIC] Shapiro-Wilk test: Estadístico = {stat_dic:.5f}, p-valor = {p_dic:.5f}\")\n",
    "if p_dic > 0.05:\n",
    "    print(\"La distribución de DIC es normal (no se rechaza H0).\")\n",
    "else:\n",
    "    print(\"La distribución de DIC NO es normal (se rechaza H0).\")\n",
    "\n",
    "print(\"\")"
   ]
  },
  {
   "cell_type": "code",
   "execution_count": 4,
   "id": "5f43e47e",
   "metadata": {},
   "outputs": [
    {
     "name": "stdout",
     "output_type": "stream",
     "text": [
      "[Salinidad] Shapiro-Wilk test: Estadístico = 0.88666, p-valor = 0.00000\n",
      "La distribución de Salinidad NO es normal (se rechaza H0).\n"
     ]
    }
   ],
   "source": [
    "# Salinidad\n",
    "sal = CO2Data['sal_psu']\n",
    "stat_sal, p_sal = shapiro(sal)\n",
    "print(f\"[Salinidad] Shapiro-Wilk test: Estadístico = {stat_sal:.5f}, p-valor = {p_sal:.5f}\")\n",
    "if p_sal > 0.05:\n",
    "    print(\"La distribución de Salinidad es normal (no se rechaza H0).\")\n",
    "else:\n",
    "    print(\"La distribución de Salinidad NO es normal (se rechaza H0).\")"
   ]
  },
  {
   "cell_type": "code",
   "execution_count": 5,
   "id": "07d50635",
   "metadata": {},
   "outputs": [
    {
     "name": "stdout",
     "output_type": "stream",
     "text": [
      "=== Shapiro-Wilk Test ===\n",
      "\n",
      "Columna: chlorophy_microg_l\n",
      "  Estadístico=0.25905, p-valor=0.00000\n",
      "  -> NO normal (se rechaza H0)\n",
      "\n",
      "Columna: turbidity_fnu\n",
      "  Estadístico=0.34553, p-valor=0.00000\n",
      "  -> NO normal (se rechaza H0)\n"
     ]
    }
   ],
   "source": [
    "# --- Shapiro-Wilk ---\n",
    "print(\"=== Shapiro-Wilk Test ===\")\n",
    "for col in [\"chlorophy_microg_l\", \"turbidity_fnu\"]:\n",
    "    datos = CO2Data[col].dropna()  # eliminamos valores NaN\n",
    "    stat, p = shapiro(datos)\n",
    "    print(f\"\\nColumna: {col}\")\n",
    "    print(f\"  Estadístico={stat:.5f}, p-valor={p:.5f}\")\n",
    "    if p > 0.05:\n",
    "        print(\"  -> Distribución normal (no se rechaza H0)\")\n",
    "    else:\n",
    "        print(\"  -> NO normal (se rechaza H0)\")"
   ]
  },
  {
   "cell_type": "code",
   "execution_count": null,
   "id": "4df48463",
   "metadata": {},
   "outputs": [],
   "source": []
  }
 ],
 "metadata": {
  "kernelspec": {
   "display_name": "base",
   "language": "python",
   "name": "python3"
  },
  "language_info": {
   "codemirror_mode": {
    "name": "ipython",
    "version": 3
   },
   "file_extension": ".py",
   "mimetype": "text/x-python",
   "name": "python",
   "nbconvert_exporter": "python",
   "pygments_lexer": "ipython3",
   "version": "3.13.5"
  }
 },
 "nbformat": 4,
 "nbformat_minor": 5
}
