{
 "cells": [
  {
   "cell_type": "markdown",
   "id": "623d0916",
   "metadata": {},
   "source": [
    "# 02_functions"
   ]
  },
  {
   "cell_type": "code",
   "execution_count": 2,
   "id": "46e3df5a",
   "metadata": {},
   "outputs": [],
   "source": [
    "# función para calcular valor absoluto\n",
    "def valor_absoluto(numero):\n",
    "    if numero < 0:\n",
    "        return -numero\n",
    "    return numero\n"
   ]
  },
  {
   "cell_type": "code",
   "execution_count": 3,
   "id": "7dd5e1aa",
   "metadata": {},
   "outputs": [],
   "source": [
    "# Función compuesta: suma y luego aplica valor absoluto\n",
    "def suma_valor_absoluto(a, b):\n",
    "    resultado = a + b\n",
    "    return valor_absoluto(resultado)"
   ]
  },
  {
   "cell_type": "code",
   "execution_count": 4,
   "id": "548c1690",
   "metadata": {},
   "outputs": [
    {
     "name": "stdout",
     "output_type": "stream",
     "text": [
      "3\n",
      "4\n",
      "10\n"
     ]
    }
   ],
   "source": [
    "print(valor_absoluto(-3))          \n",
    "print(suma_valor_absoluto(-5, 1)) \n",
    "print(suma_valor_absoluto(-8, -2)) \n"
   ]
  },
  {
   "cell_type": "code",
   "execution_count": null,
   "id": "cb2c7a6a",
   "metadata": {},
   "outputs": [],
   "source": [
    "print(\"hola mundo\")"
   ]
  },
  {
   "cell_type": "code",
   "execution_count": null,
   "id": "58cab44c",
   "metadata": {},
   "outputs": [],
   "source": []
  }
 ],
 "metadata": {
  "kernelspec": {
   "display_name": "base",
   "language": "python",
   "name": "python3"
  },
  "language_info": {
   "codemirror_mode": {
    "name": "ipython",
    "version": 3
   },
   "file_extension": ".py",
   "mimetype": "text/x-python",
   "name": "python",
   "nbconvert_exporter": "python",
   "pygments_lexer": "ipython3",
   "version": "3.13.5"
  }
 },
 "nbformat": 4,
 "nbformat_minor": 5
}
