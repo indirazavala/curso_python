{
 "cells": [
  {
   "cell_type": "code",
   "execution_count": null,
   "id": "a8abd73e",
   "metadata": {},
   "outputs": [],
   "source": [
    "def import_csv(file):\n",
    "    # Read the file into a DataFrame: df\n",
    "    import pandas as pd\n",
    "    return pd.read_csv(file)"
   ]
  },
  {
   "cell_type": "code",
   "execution_count": 4,
   "id": "5ab6fcef",
   "metadata": {},
   "outputs": [
    {
     "name": "stderr",
     "output_type": "stream",
     "text": [
      "<>:2: SyntaxWarning: invalid escape sequence '\\p'\n",
      "<>:2: SyntaxWarning: invalid escape sequence '\\p'\n",
      "C:\\Users\\INDIRA\\AppData\\Local\\Temp\\ipykernel_11628\\1446535724.py:2: SyntaxWarning: invalid escape sequence '\\p'\n",
      "  path = \"E:\\prueba\\Terminos_lagoon_TA_DIC_2023_RawData.csv\"\n"
     ]
    }
   ],
   "source": [
    "# Path to the file to be imported\n",
    "path = \"E:\\prueba\\Terminos_lagoon_TA_DIC_2023_RawData.csv\"\n",
    "\n",
    "# Import the file\n",
    "CO2Data = import_csv(path)"
   ]
  },
  {
   "cell_type": "markdown",
   "id": "f03d79fb",
   "metadata": {},
   "source": [
    "## Exploring DataFrame"
   ]
  },
  {
   "cell_type": "code",
   "execution_count": 5,
   "id": "6cefa2de",
   "metadata": {},
   "outputs": [
    {
     "name": "stdout",
     "output_type": "stream",
     "text": [
      "(106, 21)\n"
     ]
    }
   ],
   "source": [
    "# Print the number of rows and columns in the DataFrame\n",
    "print(CO2Data.shape)"
   ]
  },
  {
   "cell_type": "code",
   "execution_count": 6,
   "id": "26638bb2",
   "metadata": {},
   "outputs": [
    {
     "name": "stdout",
     "output_type": "stream",
     "text": [
      "   sample      date     estuary   area station layer_depth season  \\\n",
      "0  CDL01S  5/3/2020  Candelaria  River   CDL01     Surface    Dry   \n",
      "1  CDL01F  5/3/2020  Candelaria  River   CDL01      Bottom    Dry   \n",
      "2  CDL02S  5/3/2020  Candelaria  River   CDL02     Surface    Dry   \n",
      "3  CDL02F  5/3/2020  Candelaria  River   CDL02      Bottom    Dry   \n",
      "4  CDL03S  5/3/2020  Candelaria  River   CDL03     Surface    Dry   \n",
      "\n",
      "   chlorophy_microg_l  cond_microsiemens_cm  depth_m  ...  do_mg_l  sal_psu  \\\n",
      "0                0.36                7015.4    0.464  ...     7.12     3.56   \n",
      "1                4.19               29886.1    7.792  ...     4.90    16.97   \n",
      "2                0.92               16691.1    0.453  ...     6.99     8.94   \n",
      "3                2.23               24847.4    1.261  ...     6.52    13.87   \n",
      "4                0.58               46341.6    0.465  ...     6.24    28.06   \n",
      "\n",
      "   sp_cond_microsiemens_cm  turbidity_fnu  temp_c  latitude  longitude  \\\n",
      "0                   6547.7           1.47  28.740  18.55736  -91.25012   \n",
      "1                  27751.2          95.33  29.028  18.55722  -91.24990   \n",
      "2                  15429.1           5.50  29.283  18.61007  -91.24410   \n",
      "3                  23074.0          13.44  29.024  18.61005  -91.24403   \n",
      "4                  43670.8           3.60  28.202  18.63166  -91.29359   \n",
      "\n",
      "   dic_micromol_kg  ta_micromol_kg  dummy_data  \n",
      "0             3915            3863      3685.0  \n",
      "1             3698            3685         NaN  \n",
      "2             3724            3708      3708.0  \n",
      "3             3667            3992      3992.0  \n",
      "4             2928            3023      3023.0  \n",
      "\n",
      "[5 rows x 21 columns]\n"
     ]
    }
   ],
   "source": [
    "# Print the head of the DataFrame\n",
    "print(CO2Data.head())"
   ]
  },
  {
   "cell_type": "markdown",
   "id": "11b924d5",
   "metadata": {},
   "source": [
    "## Media y desviación estandar de las variables agrupadas"
   ]
  },
  {
   "cell_type": "code",
   "execution_count": 7,
   "id": "817e3577",
   "metadata": {},
   "outputs": [],
   "source": [
    "import pandas as pd\n",
    "\n",
    "# Supongamos que tu DataFrame se llama CO2Data\n",
    "\n",
    "# Agrupar por 'season' y 'estuary', y calcular media y desviación estándar\n",
    "summary_stats = CO2Data.groupby(['season', 'estuary']).agg({\n",
    "    'dic_micromol_kg': ['mean', 'std'],\n",
    "    'ta_micromol_kg': ['mean', 'std'],\n",
    "    'sal_psu': ['mean', 'std']\n",
    "})"
   ]
  },
  {
   "cell_type": "code",
   "execution_count": 8,
   "id": "076065bb",
   "metadata": {},
   "outputs": [
    {
     "name": "stdout",
     "output_type": "stream",
     "text": [
      "                  dic_micromol_kg             ta_micromol_kg              \\\n",
      "                             mean         std           mean         std   \n",
      "season estuary                                                             \n",
      "Dry    Candelaria     2917.055556  630.585893    3076.777778  556.680114   \n",
      "       Palizada       2968.194444  391.242257    3107.888889  323.177154   \n",
      "Rainy  Candelaria     2474.125000  306.407980    2537.062500  192.848635   \n",
      "       Palizada       2507.277778  216.751092    2529.333333  260.962923   \n",
      "\n",
      "                     sal_psu             \n",
      "                        mean        std  \n",
      "season estuary                           \n",
      "Dry    Candelaria  23.633889  12.121592  \n",
      "       Palizada    16.392500  13.830189  \n",
      "Rainy  Candelaria  15.165000  13.937384  \n",
      "       Palizada     8.533333   9.940109  \n"
     ]
    }
   ],
   "source": [
    "# Mostrar el resultado\n",
    "print(summary_stats)"
   ]
  },
  {
   "cell_type": "code",
   "execution_count": 12,
   "id": "9266ebbe",
   "metadata": {},
   "outputs": [],
   "source": [
    "from tabulate import tabulate\n",
    "import pandas as pd"
   ]
  },
  {
   "cell_type": "code",
   "execution_count": 13,
   "id": "7e88b97e",
   "metadata": {},
   "outputs": [],
   "source": [
    "# Supongamos que summary_stats ya está calculado\n",
    "# summary_stats = CO2Data.groupby(['season','estuary']).agg({...})\n",
    "\n",
    "# Aplanar las columnas para poder trabajar más fácil\n",
    "summary_stats.columns = ['_'.join(col).strip() for col in summary_stats.columns.values]"
   ]
  },
  {
   "cell_type": "code",
   "execution_count": 14,
   "id": "1872785f",
   "metadata": {},
   "outputs": [],
   "source": [
    "# Crear una tabla formateada \"mean ± std\"\n",
    "formatted_rows = []\n",
    "for idx, row in summary_stats.iterrows():\n",
    "    season, estuary = idx\n",
    "    dic = f\"{row['dic_micromol_kg_mean']:.2f} ± {row['dic_micromol_kg_std']:.2f}\"\n",
    "    ta = f\"{row['ta_micromol_kg_mean']:.2f} ± {row['ta_micromol_kg_std']:.2f}\"\n",
    "    sal = f\"{row['sal_psu_mean']:.2f} ± {row['sal_psu_std']:.2f}\"\n",
    "    formatted_rows.append([season, estuary, dic, ta, sal])"
   ]
  },
  {
   "cell_type": "code",
   "execution_count": 15,
   "id": "a7a39aac",
   "metadata": {},
   "outputs": [],
   "source": [
    "# Definir encabezados\n",
    "headers = [\"Season\", \"Estuary\", \"DIC (µmol/kg)\", \"TA (µmol/kg)\", \"Salinity (PSU)\"]"
   ]
  },
  {
   "cell_type": "code",
   "execution_count": 16,
   "id": "62670a47",
   "metadata": {},
   "outputs": [
    {
     "name": "stdout",
     "output_type": "stream",
     "text": [
      "+----------+------------+------------------+------------------+------------------+\n",
      "| Season   | Estuary    | DIC (µmol/kg)    | TA (µmol/kg)     | Salinity (PSU)   |\n",
      "+==========+============+==================+==================+==================+\n",
      "| Dry      | Candelaria | 2917.06 ± 630.59 | 3076.78 ± 556.68 | 23.63 ± 12.12    |\n",
      "+----------+------------+------------------+------------------+------------------+\n",
      "| Dry      | Palizada   | 2968.19 ± 391.24 | 3107.89 ± 323.18 | 16.39 ± 13.83    |\n",
      "+----------+------------+------------------+------------------+------------------+\n",
      "| Rainy    | Candelaria | 2474.12 ± 306.41 | 2537.06 ± 192.85 | 15.16 ± 13.94    |\n",
      "+----------+------------+------------------+------------------+------------------+\n",
      "| Rainy    | Palizada   | 2507.28 ± 216.75 | 2529.33 ± 260.96 | 8.53 ± 9.94      |\n",
      "+----------+------------+------------------+------------------+------------------+\n"
     ]
    }
   ],
   "source": [
    "# Imprimir la tabla\n",
    "print(tabulate(formatted_rows, headers=headers, tablefmt=\"grid\"))"
   ]
  },
  {
   "cell_type": "code",
   "execution_count": 18,
   "id": "2d01e994",
   "metadata": {},
   "outputs": [],
   "source": [
    "# Crear un DataFrame a partir de la tabla formateada\n",
    "formatted_df = pd.DataFrame(formatted_rows, columns=headers)"
   ]
  },
  {
   "cell_type": "code",
   "execution_count": 19,
   "id": "b4b58864",
   "metadata": {},
   "outputs": [],
   "source": [
    "# Guardar en un archivo CSV\n",
    "formatted_df.to_csv(\"summary_stats.csv\", index=False)"
   ]
  },
  {
   "cell_type": "markdown",
   "id": "6d5bea78",
   "metadata": {},
   "source": [
    "## -----"
   ]
  },
  {
   "cell_type": "code",
   "execution_count": null,
   "id": "dd88beab",
   "metadata": {},
   "outputs": [],
   "source": [
    "# Print information about the DataFrame\n",
    "print(CO2Data.info())"
   ]
  },
  {
   "cell_type": "code",
   "execution_count": null,
   "id": "9c010c1b",
   "metadata": {},
   "outputs": [],
   "source": [
    "# Print descriptive statistics\n",
    "print(CO2Data.describe())"
   ]
  },
  {
   "cell_type": "markdown",
   "id": "4431d9ec",
   "metadata": {},
   "source": [
    "## Missing values in each column."
   ]
  },
  {
   "cell_type": "code",
   "execution_count": null,
   "id": "b77d78b2",
   "metadata": {},
   "outputs": [],
   "source": [
    "# Use the Pandas isnull() function to identify the number of missing values in each column.\n",
    "print(CO2Data.isnull().sum())"
   ]
  },
  {
   "cell_type": "code",
   "execution_count": null,
   "id": "d2562481",
   "metadata": {},
   "outputs": [],
   "source": []
  }
 ],
 "metadata": {
  "kernelspec": {
   "display_name": "base",
   "language": "python",
   "name": "python3"
  },
  "language_info": {
   "codemirror_mode": {
    "name": "ipython",
    "version": 3
   },
   "file_extension": ".py",
   "mimetype": "text/x-python",
   "name": "python",
   "nbconvert_exporter": "python",
   "pygments_lexer": "ipython3",
   "version": "3.13.5"
  }
 },
 "nbformat": 4,
 "nbformat_minor": 5
}
